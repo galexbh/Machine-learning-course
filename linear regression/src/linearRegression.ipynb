{
  "nbformat": 4,
  "nbformat_minor": 0,
  "metadata": {
    "language_info": {
      "codemirror_mode": {
        "name": "ipython",
        "version": 3
      },
      "file_extension": ".py",
      "mimetype": "text/x-python",
      "name": "python",
      "nbconvert_exporter": "python",
      "pygments_lexer": "ipython3",
      "version": "3.8.5-final"
    },
    "orig_nbformat": 2,
    "kernelspec": {
      "name": "python3",
      "display_name": "Python 3"
    },
    "colab": {
      "name": "linearRegression.ipynb",
      "provenance": []
    }
  },
  "cells": [
    {
      "cell_type": "code",
      "metadata": {
        "id": "Ic9GEqHzunsq"
      },
      "source": [
        "import numpy as np\n",
        "import matplotlib.pyplot as plt"
      ],
      "execution_count": 1,
      "outputs": []
    },
    {
      "cell_type": "code",
      "metadata": {
        "id": "sM-4lgj1untT"
      },
      "source": [
        "#Estimar los coeficientes de b0 y b1\n",
        "def estimate_b0_b1(x, y):\n",
        "\n",
        "    #Obtenermos los promedios de X & Y\n",
        "    m_x, m_y = np.mean(x), np.mean(y)\n",
        "\n",
        "    #Calcular la sumatoria de XY y sumatoria de XX\n",
        "    sumatoria_xy = np.sum((x-m_x)*(y-m_y))\n",
        "    sumatoria_xx = np.sum(x*(x-m_x)) #Es equivalente a np.sum((x-m_x)**2)\n",
        "\n",
        "    #Coeficientes de regresion\n",
        "    b_1 = sumatoria_xy / sumatoria_xx\n",
        "    b_0 = m_y - b_1*m_x\n",
        "\n",
        "    return(b_0, b_1)"
      ],
      "execution_count": 2,
      "outputs": []
    },
    {
      "cell_type": "markdown",
      "metadata": {
        "id": "a582F2QmuntY"
      },
      "source": [
        "los distintos ploteos/gráficos que se pueden hacer:\n",
        "https://matplotlib.org/3.2.2/api/_as_gen/matplotlib.pyplot.subplots.html\n",
        "\n",
        "Colores\n",
        "\n",
        "Símbolo - Color\n",
        "“b” - Azul\n",
        "“g” - Verde\n",
        "“r” - Rojo\n",
        "\"c” - Cian\n",
        "“m” - Magenta\n",
        "“y” - Amarillo\n",
        "“k” - Negro\n",
        "“w” - Blanco"
      ]
    },
    {
      "cell_type": "code",
      "metadata": {
        "id": "yUAojB-Cuntb"
      },
      "source": [
        "#Graficar la funcion\n",
        "def plot_regression(x,y,b):\n",
        "    plt.scatter(x, y, color = \"g\", marker = \"o\", s = 30)\n",
        "\n",
        "    y_pred = b[0] + b[1]*x\n",
        "    plt.plot(x, y_pred, color = \"k\")\n",
        "\n",
        "    #etiquetado\n",
        "    plt.xlabel('x_Corriente')\n",
        "    plt.ylabel('y_Voltaje')\n",
        "\n",
        "    plt.show()"
      ],
      "execution_count": 5,
      "outputs": []
    },
    {
      "cell_type": "code",
      "metadata": {
        "id": "7awzu98Huntd",
        "outputId": "8e91575d-fde9-488c-c219-d3343c42550f",
        "colab": {
          "base_uri": "https://localhost:8080/",
          "height": 297
        }
      },
      "source": [
        "#main\n",
        "def main():\n",
        "    #dataset\n",
        "    x = np.array([0.45,0.6,0.75,0.9,1.05])\n",
        "    y = np.array([9,12,15,18,21])\n",
        "\n",
        "    #obtencion b1 & b2\n",
        "    b = estimate_b0_b1(x, y)\n",
        "    print(f'Los valores de b0 = {b[0]}, b1 = {b[1]}')\n",
        "    \n",
        "    #graficamos la linea de regresion\n",
        "    plot_regression(x, y, b)\n",
        "\n",
        "if __name__ == \"__main__\":\n",
        "    main()"
      ],
      "execution_count": 6,
      "outputs": [
        {
          "output_type": "stream",
          "text": [
            "Los valores de b0 = 5.329070518200751e-15, b1 = 19.999999999999993\n"
          ],
          "name": "stdout"
        },
        {
          "output_type": "display_data",
          "data": {
            "image/png": "[encoded data removed]",
            "text/plain": [
              "<Figure size 432x288 with 1 Axes>"
            ]
          },
          "metadata": {
            "tags": [],
            "needs_background": "light"
          }
        }
      ]
    }
  ]
}