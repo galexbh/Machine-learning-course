{
  "nbformat": 4,
  "nbformat_minor": 0,
  "metadata": {
    "colab": {
      "name": "Redes Neuronales.ipynb",
      "provenance": [],
      "collapsed_sections": []
    },
    "kernelspec": {
      "name": "python3",
      "display_name": "Python 3"
    },
    "language_info": {
      "name": "python"
    }
  },
  "cells": [
    {
      "cell_type": "markdown",
      "metadata": {
        "id": "uwoxSb2pAVbT"
      },
      "source": [
        "# Redes Neuronales Artificiales\n",
        "Son una técnica dentro de machine learning para hacer entrenamiento de aprendizaje automatico.\n",
        "\n",
        "## Beneficios\n",
        "- Nos permiten hacer el procesamiento de alto volumenes de información.\n",
        "- Almacenamiento y procesamiento dentro de la misma neurona.\n",
        "-  +capas -> +profundidad\n",
        "\n",
        "## Comparativa Red Neuronal Biologica vs Artificial\n",
        "\n",
        "<img src=\"https://www.researchgate.net/profile/Brian-Mwandau/publication/325870973/figure/fig4/AS:639531594297345@1529487622181/Biological-Neuron-versus-Artificial-Neural-Network.png\" title=\"Neurona biologica vs red neuronal artificial\" alt=\"ANN\" data-align=\"center\">\n",
        "\n",
        "## Comparativa Machine Learning vs Deep Learning\n",
        "\n",
        "<img src=\"https://lawtomated.com/wp-content/uploads/2019/04/MLvsDL.png\" title=\"Machine learning vs Deep learning\" alt=\"MLvsDL\" data-align=\"center\">\n",
        "\n"
      ]
    },
    {
      "cell_type": "markdown",
      "metadata": {
        "id": "GqH7cAPcaDmd"
      },
      "source": [
        "## Ejemplo | 1"
      ]
    },
    {
      "cell_type": "code",
      "metadata": {
        "id": "TuCQcwo2Ync4"
      },
      "source": [
        "import numpy as np\n",
        "\n",
        "class perceptron():\n",
        "    def __init__(self, inputs, weights, name=None):\n",
        "        self.inputs = np.array(inputs)\n",
        "        self.weights = np.array(weights)\n",
        "        self.name = name or 'Default perceptron'\n",
        "        self.size = len(self.inputs)\n",
        "    \n",
        "    def decide(self, threshold):\n",
        "        # Producto interno comparado con el umbral\n",
        "        return (self.inputs @ self.weights) >= threshold"
      ],
      "execution_count": 1,
      "outputs": []
    },
    {
      "cell_type": "code",
      "metadata": {
        "colab": {
          "base_uri": "https://localhost:8080/"
        },
        "id": "XcTB5JhCb9yv",
        "outputId": "c82fd4a2-e128-4668-db5f-ad0459a98294"
      },
      "source": [
        "inputs, weights = [],[]\n",
        "considerations = [\n",
        "                  \"Tiene garantía? \",\n",
        "                  \"Tiene promoción? \"\n",
        "]\n",
        "\n",
        "for consideration in considerations:\n",
        "    i = int(input(consideration))\n",
        "    w = int(input(\"weight... \"))\n",
        "    print()\n",
        "\n",
        "    inputs.append(i)\n",
        "    weights.append(w)\n",
        "\n",
        "threshold = int(input(\"umbral... \"))"
      ],
      "execution_count": 3,
      "outputs": [
        {
          "output_type": "stream",
          "text": [
            "Tiene garantía? 1\n",
            "weight... 4\n",
            "\n",
            "Tiene promoción? 1\n",
            "weight... 3\n",
            "\n",
            "umbral... 3\n"
          ],
          "name": "stdout"
        }
      ]
    },
    {
      "cell_type": "code",
      "metadata": {
        "colab": {
          "base_uri": "https://localhost:8080/"
        },
        "id": "SHv-03trjZCr",
        "outputId": "ca6fc523-6cfa-4b95-ca4f-a121533b8162"
      },
      "source": [
        "p = perceptron(inputs,weights)\n",
        "print(p.size)\n",
        "\n",
        "p.decide(threshold)"
      ],
      "execution_count": 4,
      "outputs": [
        {
          "output_type": "stream",
          "text": [
            "2\n"
          ],
          "name": "stdout"
        },
        {
          "output_type": "execute_result",
          "data": {
            "text/plain": [
              "True"
            ]
          },
          "metadata": {
            "tags": []
          },
          "execution_count": 4
        }
      ]
    },
    {
      "cell_type": "markdown",
      "metadata": {
        "id": "_dLWDxcHb5fG"
      },
      "source": [
        "## Ejemplo | 2"
      ]
    },
    {
      "cell_type": "code",
      "metadata": {
        "id": "zEBU2DI2b3bL"
      },
      "source": [
        "class neuronalNetwork:\n",
        "    def __init__(self,x,y):\n",
        "        self.input = x\n",
        "        self.weghts1 = np.random.rand(self.input.shape[1],4)\n",
        "        self.weghts2 = np.random.rand(4,1)\n",
        "        self.y = y\n",
        "        self.output = np.zeros(y.shape)\n",
        "\n",
        "    def feedForward(self):\n",
        "        self.layer1 = sigmoid(np.dot(self.input,self.weghts1))\n",
        "        self.output = sigmoid(np.dot(self.layer1,self.weghts2))\n",
        "\n",
        "    def backProp(self):\n",
        "        d_weghts2 = np.dot(self.layer1.T, 2*(self.y - self.output)*sigmoid_derivative(self.output))\n",
        "        d_weghts1 = np.dot(self.input.T, np.dot(2*(self.y - self.output)*sigmoid_derivative(self.output),d_weghts2.T))\n",
        "\n",
        "        self.weghts1 += d_weghts1\n",
        "        self.weghts1 += d_weghts1\n",
        "\n",
        "    def train(self,x,y):\n",
        "        self.output = self.feedForward()\n",
        "        self.backProp()"
      ],
      "execution_count": 5,
      "outputs": []
    },
    {
      "cell_type": "code",
      "metadata": {
        "id": "pax1h1Clq3SX"
      },
      "source": [
        ""
      ],
      "execution_count": null,
      "outputs": []
    }
  ]
}