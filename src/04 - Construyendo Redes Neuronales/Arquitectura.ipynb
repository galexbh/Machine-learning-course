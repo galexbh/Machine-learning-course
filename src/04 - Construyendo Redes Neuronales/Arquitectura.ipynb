{
  "nbformat": 4,
  "nbformat_minor": 0,
  "metadata": {
    "colab": {
      "name": "Arquitectura.ipynb",
      "provenance": []
    },
    "kernelspec": {
      "name": "python3",
      "display_name": "Python 3"
    },
    "language_info": {
      "name": "python"
    }
  },
  "cells": [
    {
      "cell_type": "markdown",
      "metadata": {
        "id": "xKHlS50NKH-C"
      },
      "source": [
        "# Arquitecturas Para Redes Neuronales Artificiales\n",
        "\n",
        "- FeedForward Neural Network\n",
        "- Convolutional Neural Network (CNN)\n",
        "- Recurrent Neural Network (RNN)\n",
        "- Radiar Basic Function Neural Network\n",
        "- Modular Neural Network\n",
        "- ..."
      ]
    },
    {
      "cell_type": "markdown",
      "metadata": {
        "id": "xfcgJcWZOF3c"
      },
      "source": [
        "### Hyperparametrer [Hiperpárametro]\n",
        "\n",
        "Son los parametros externos.\n",
        "\n",
        "### Tensor\n",
        "\n",
        "Es la estructura de datos.\n",
        "\n",
        "### Cost Function [función de costo]\n",
        "\n",
        "Nos permite comprender la evaluación, rendimiento y como está aprendiendo el algoritmo.\n",
        "\n",
        "### Layers [Capas]\n",
        "\n",
        "Se definen la cantidad de neuranas y como se conectan.\n",
        "\n",
        "### Dense Layer or Fully Connect [Capa Densa]\n",
        "\n",
        "Donde están todas las neuronas conectadas\n",
        "\n",
        "### Gradient Descent [Gradiente Descendiente]\n",
        "\n",
        "Trata de encontrar el error minimo posible\n",
        "\n",
        "### Learning Rate [Tasa de Aprendizaje]\n",
        "\n",
        "Para ver que tan rápido aprende\n",
        "\n",
        "### Batch [Lote]\n",
        "\n",
        "La cantidad de información para entrenar"
      ]
    },
    {
      "cell_type": "code",
      "metadata": {
        "id": "z8m_itk5yIJB"
      },
      "source": [
        ""
      ],
      "execution_count": null,
      "outputs": []
    }
  ]
}