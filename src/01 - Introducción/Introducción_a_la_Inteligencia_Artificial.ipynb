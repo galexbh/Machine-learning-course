{
  "nbformat": 4,
  "nbformat_minor": 0,
  "metadata": {
    "colab": {
      "name": "Introducción a la Inteligencia Artificial.ipynb",
      "provenance": []
    },
    "kernelspec": {
      "name": "python3",
      "display_name": "Python 3"
    }
  },
  "cells": [
    {
      "cell_type": "markdown",
      "metadata": {
        "id": "MoB0SR76wDL7"
      },
      "source": [
        "# ¿Qué es Inteligencia Artificial?\n",
        "\n",
        "Es un subcampo de la ciencia de la computación que da a las computadoras la habilidad de aprender sin ser programadas explicitamente.\n",
        "\n",
        "Supongamos que se tiene un conjunto de datos de imagenes de animales y quieran una aplicación capaz de reconocerlos y diferenciarlos.\n",
        "\n",
        "Lo primero que tienen que hacer es interpretar las imagenes como un conjunto de conjuntos de caracteristicas.\n",
        "\n",
        "Por ejemplo ¿La imagen muestra los ojos del animal?\n",
        "\n",
        "Sí es así, ¿Cuál es su tamaño?\n",
        "¿Tiene orejas?\n",
        "¿Hay una cola?\n",
        "\n",
        "Antes de machine learning, cada imagen se transformaria en un vector de características, entonces tradicionalmente tendriamos que escribir algunas reglas o métodos para que las computadoras sean inteligentes pero fue un fracaso, ¿Por qué? se necesita muchas reglas, muy dependientes del conjunto de datos actual, y no lo suficiente generalizados como para dectar casos fuera de la muestra.\n",
        "\n",
        "Entonces aqui es donde entra el machine learning.\n",
        "\n",
        "Usar machine learning nos permite construir un modelo que observer todos los conjuntos de caracteristicas, y su correspondiente tipo de animal y aprender el patrón de cada animal."
      ]
    },
    {
      "cell_type": "markdown",
      "metadata": {
        "id": "AX4FhQgK7IzW"
      },
      "source": [
        "# Agentes Inteligentes\n",
        "\n",
        "Enfocado a la ejecución de tareas, conocimiento y comunicación.\n",
        "\n",
        "Resolución de problemas de un agente:\n",
        "\n",
        "- Formulación de la **META**\n",
        "- Entender el **PROBLEMA**\n",
        "- Estado inicial\n",
        "- Acciones\n",
        "- Transiciones\n",
        "\n",
        "Características:\n",
        "\n",
        "- Reactivo || Proactivo\n",
        "- Autonomia\n",
        "- Re-actividad\n",
        "- ..."
      ]
    },
    {
      "cell_type": "markdown",
      "metadata": {
        "id": "w3vXNDBsy4HU"
      },
      "source": [
        "# Tipos de Inteligencia Artificial\n",
        "\n",
        "- Inteligencia artificial estrella\n",
        "\n",
        "Dedicado a realizar o asistir a tareas especificas.\n",
        "\n",
        "- Inteligencia articial general\n",
        "\n",
        "Toma el conocimiento en el que a sido entrenado para transferirlo a otro dominio.\n",
        "\n",
        "- Super inteligencia articial\n",
        "\n",
        "Cuando la inteligencia articial supera la inteligencia humana"
      ]
    },
    {
      "cell_type": "markdown",
      "metadata": {
        "id": "KyaxahXS184Q"
      },
      "source": [
        "# Componentes de la IA\n",
        "\n",
        "* IA\n",
        "\n",
        "Trata de hacer la computadora inteligente para imitar las funciones cognitivas de los seres humanos.\n",
        "\n",
        "Así que la IA es un campo general con un amplio alcance, incluyendo:\n",
        "\n",
        "Proceso de lenguaje, Creatividad, Resumen\n",
        "\n",
        "* Machine Learning\n",
        "\n",
        "Es la rama de la IA que cubre la parte estadística de la IA\n",
        "\n",
        "Enseña a la computadora a resolver problemas al mirar cientos o moles de ejemlos, aprender de ellos y luego usar esa experiencia para resolverlos en diferentes situaciones.\n",
        "\n",
        "- Deep learning\n",
        "\n",
        "Es un campo muy especial de machine learning donde las computadoras pueden aprender y tomar decisiones inteligentes por su cuenta."
      ]
    },
    {
      "cell_type": "markdown",
      "metadata": {
        "id": "8DGox5rN3Prk"
      },
      "source": [
        "# Paquetes y Librerias\n",
        "\n",
        "* Numpy\n",
        "\n",
        "Una biblioteca de matemática para trabajar con arreglos de n-dimensiones en python.\n",
        "\n",
        "Esta permite realizar cálculos de forma eficiente y eficaz.\n",
        "\n",
        "* SciPy\n",
        "\n",
        "Es una colección de algoritmos numéricosy herramientas de dominio especifico, incluyendo procesamiento de señal, optimización, estadística y mucho más.\n",
        "\n",
        "* Matplotlib\n",
        "\n",
        "Es un paquete muy popular que proporciona trazado 2D, así como trazado 3D.\n",
        "\n",
        "* Pandas\n",
        "\n",
        "Es una biblioteca de python de muy alto nivel que proporciona estructuras de datos de alto rendimiento, faciles de utilizar.\n",
        "\n",
        "En particular, ofrece operaciones para la manipulación de tablas númericos.\n",
        "\n",
        "- Scikit-Learn\n",
        "\n",
        "Es una colección de algoritmos y herramientas de machine learning, que es nuestro objetivo aquí.\n"
      ]
    },
    {
      "cell_type": "markdown",
      "metadata": {
        "id": "AF0hw4IN54Vl"
      },
      "source": [
        "# Aprendizaje supervisado y no supervisado\n",
        "\n",
        "* **Supervisado**\n",
        "\n",
        "significa observar y dirigir la ejecución de una tarea proyecto o actividad.\n",
        "\n",
        "Entonces, ¿Cómo supervisamos un modelo de machine learning?\n",
        "\n",
        "Lo hacemos \"educando\" el modelo.\n",
        "\n",
        "Es decir, cargamos el modelo con conocimiento para que pueda predecir las instancias futuras.\n",
        "\n",
        "Pero esto nos lleva a la siguiente pregunta: ¿Cómo se educa exactamente un modelo?\n",
        "\n",
        "Nosotros educamos el modelo entrenandolo con algunos datos de un conjunto de datos con etiquetas.\n",
        "\n",
        "* **No supervisado**\n",
        "\n",
        "Es donde dejamos que trabaje por su cuenta para descubrir información. (Que puede no ser ivisble para el ojo humano).\n",
        "\n",
        "Esto significa que el algoritmo no supervisado entrena con el conjunto de datos y extrae conclusiones sobre datos sin etiquetar.\n",
        "\n",
        "En términos generales, el aprendizaje no supervisado tiene algoritmos más difíciles que el aprendizaje supervisado, ya que sabemos poco o nada sobre los datos o los resultados que se esperan."
      ]
    },
    {
      "cell_type": "markdown",
      "metadata": {
        "id": "7sqhG9zD-0rJ"
      },
      "source": [
        ""
      ]
    },
    {
      "cell_type": "markdown",
      "metadata": {
        "id": "LS7G-yjQz0_h"
      },
      "source": [
        "# Tecnicas populares de Machine Learning\n",
        "\n",
        "* La tecnica de regresión/estimación\n",
        "\n",
        "Se utiliza para predecir un valor continuo, por ejemplo: predicción de cosas como el precio de una casa basado en sus caracteristicas, o para estimar la emisión de CO2 de motor de un coche.\n",
        "\n",
        "* Clasificación\n",
        "\n",
        "Se utiliza para predecir la clase o categoría, por ejemplo, si una célula es benigna o maligna o si un cliente se va a retirar o no.\n",
        "\n",
        "* Grupos de casos similares\n",
        "\n",
        "Se utiliza para la segmentación por ejemplo: Encontrar pacientes similares o en el campo bancario.\n",
        "\n",
        "* Asociación\n",
        "\n",
        "Se utiliza para buscar elementos o sucesos que a menudo se producen conjuntamente, por ejemplo, los articulo que son normalmente comprador por un cliente particular.\n",
        "\n",
        "* La detección de anomalías\n",
        "\n",
        "Se utiliza para descubrir casos anormales e inusuales, por ejemplo se utiliza para la detección de fraude de tarjetas de credito.\n",
        "\n",
        "* La mineria secuencial\n",
        "\n",
        "Se utiliza para predecir el siguiente suceso, por ejemplo, la secuencia de pulsación en sitios web.\n",
        "\n",
        "* Reducción de dimensión\n",
        "\n",
        "Se utiliza para reducir el tamaño de los datos.\n",
        "\n",
        "* Sistema de recomendación\n",
        "\n",
        "Esto asocia a las preferencias de la gente con otros que tienen gustos similares.\n"
      ]
    },
    {
      "cell_type": "markdown",
      "metadata": {
        "id": "L6ZTlV_XosUC"
      },
      "source": [
        "# Datos\n",
        "\n",
        "Ciclo de vida del machine learning\n",
        "\n",
        "1. Recolección de los datos\n",
        "2. Preparación de los datos\n",
        "3. Disputa de datos\n",
        "4. Analisis de datos\n",
        "5. Entrenar el modelo\n",
        "6. Test del modelo\n",
        "7. Despliegue\n",
        "\n",
        "Obtener dataset para realizar los datos de entrenamiento y los datos de prueba.\n",
        "\n",
        "https://kaggle.com/datasets"
      ]
    },
    {
      "cell_type": "markdown",
      "metadata": {
        "id": "g40284R6KtHj"
      },
      "source": [
        ""
      ]
    }
  ]
}