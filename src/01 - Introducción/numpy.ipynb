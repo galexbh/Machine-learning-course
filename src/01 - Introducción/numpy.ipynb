{
  "nbformat": 4,
  "nbformat_minor": 0,
  "metadata": {
    "language_info": {
      "codemirror_mode": {
        "name": "ipython",
        "version": 3
      },
      "file_extension": ".py",
      "mimetype": "text/x-python",
      "name": "python",
      "nbconvert_exporter": "python",
      "pygments_lexer": "ipython3",
      "version": "3.8.5-final"
    },
    "orig_nbformat": 2,
    "kernelspec": {
      "name": "python3",
      "display_name": "Python 3"
    },
    "colab": {
      "name": "numpy.ipynb",
      "provenance": []
    }
  },
  "cells": [
    {
      "cell_type": "markdown",
      "metadata": {
        "id": "GeUFLRI3ivTv"
      },
      "source": [
        "# Qué es y cómo se utiliza Numpy"
      ]
    },
    {
      "cell_type": "markdown",
      "metadata": {
        "id": "kh0NGPnxivT1"
      },
      "source": [
        "Datos importantes:\n",
        "\n",
        "- **Numpy** es una librería muy importante para el ecosistema de Python ya que es la base de todos los cálculos científicos y muchas de las librerías de Machine Learning.\n",
        "\n",
        "- **Scikit-Learn** con sus modelos, cuando retorna un resultado, en general lo retorna en un formato Numpy.\n",
        "\n",
        "- La API de Numpy tiene muchas similitudes con Pandas.\n",
        "\n",
        "- Numpy reemplaza de forma más eficiente lo que podría ser un tipo lista. En las listas podemos tener conjuntos de elementos numéricos. Sin embargo las listas no logran manejar datos de dos dimensiones.\n",
        "\n",
        "- Las listas no poseen métodos que son prácticos para hacer aritmética.\n",
        "\n",
        "- Es importante saber que otros lenguajes de programación poseen librerías altamente optimizadas para hacer cálculos numéricos con vectores de datos. Numpy es esa librería para el lenguaje de programación de Python.\n",
        "np.\n",
        "\n",
        "- linspace es una función que permite crear un array de una dimensión de números entre 0 y 1.\n",
        "Los array a diferencia de otros objetos en Python están fuertemente tipificados. Esta tipificación fuerte es necesaria porque es una de las cosas que permite que esta librería sea más rápida que ocupar listas, por ejemplo."
      ]
    },
    {
      "cell_type": "markdown",
      "metadata": {
        "id": "CjiqOgPWivUF"
      },
      "source": [
        "## Arrays"
      ]
    },
    {
      "cell_type": "code",
      "metadata": {
        "id": "X2ptt8MnivUR"
      },
      "source": [
        "#import la libreria\n",
        "import numpy as np"
      ],
      "execution_count": 1,
      "outputs": []
    },
    {
      "cell_type": "code",
      "metadata": {
        "id": "TSEDQ782ivVT",
        "outputId": "76e9e29e-162e-4be7-9340-a75034154c22",
        "colab": {
          "base_uri": "https://localhost:8080/"
        }
      },
      "source": [
        "a1 = np.array([1,2,3])\n",
        "type(a1)"
      ],
      "execution_count": 3,
      "outputs": [
        {
          "output_type": "execute_result",
          "data": {
            "text/plain": [
              "numpy.ndarray"
            ]
          },
          "metadata": {
            "tags": []
          },
          "execution_count": 3
        }
      ]
    },
    {
      "cell_type": "code",
      "metadata": {
        "id": "ca-LRew9ivV8",
        "outputId": "b230d8a2-d259-4801-bc78-4aef7d17e487",
        "colab": {
          "base_uri": "https://localhost:8080/"
        }
      },
      "source": [
        "a2 = np.arange(10)\n",
        "a2"
      ],
      "execution_count": 4,
      "outputs": [
        {
          "output_type": "execute_result",
          "data": {
            "text/plain": [
              "array([0, 1, 2, 3, 4, 5, 6, 7, 8, 9])"
            ]
          },
          "metadata": {
            "tags": []
          },
          "execution_count": 4
        }
      ]
    },
    {
      "cell_type": "code",
      "metadata": {
        "id": "jnTO-uSjivWr",
        "outputId": "3dafd5e5-e677-4d4f-c4b7-178e8936fc96",
        "colab": {
          "base_uri": "https://localhost:8080/"
        }
      },
      "source": [
        "a3 = np.zeros((2,3))\n",
        "a3"
      ],
      "execution_count": 5,
      "outputs": [
        {
          "output_type": "execute_result",
          "data": {
            "text/plain": [
              "array([[0., 0., 0.],\n",
              "       [0., 0., 0.]])"
            ]
          },
          "metadata": {
            "tags": []
          },
          "execution_count": 5
        }
      ]
    },
    {
      "cell_type": "code",
      "metadata": {
        "id": "4Ypwslu1ivW_",
        "outputId": "81919bef-5242-40ec-c6a0-227174667b11",
        "colab": {
          "base_uri": "https://localhost:8080/"
        }
      },
      "source": [
        "a4 = np.ones((2,3))\n",
        "a4"
      ],
      "execution_count": 6,
      "outputs": [
        {
          "output_type": "execute_result",
          "data": {
            "text/plain": [
              "array([[1., 1., 1.],\n",
              "       [1., 1., 1.]])"
            ]
          },
          "metadata": {
            "tags": []
          },
          "execution_count": 6
        }
      ]
    },
    {
      "cell_type": "code",
      "metadata": {
        "id": "ICuI2tWFivXY",
        "outputId": "783cdf5e-ff00-4d18-bcb7-497c28a8b465",
        "colab": {
          "base_uri": "https://localhost:8080/",
          "height": 85
        }
      },
      "source": [
        "from IPython.display import display\n",
        "display(a3);display(a4)"
      ],
      "execution_count": 7,
      "outputs": [
        {
          "output_type": "display_data",
          "data": {
            "text/plain": [
              "array([[0., 0., 0.],\n",
              "       [0., 0., 0.]])"
            ]
          },
          "metadata": {
            "tags": []
          }
        },
        {
          "output_type": "display_data",
          "data": {
            "text/plain": [
              "array([[1., 1., 1.],\n",
              "       [1., 1., 1.]])"
            ]
          },
          "metadata": {
            "tags": []
          }
        }
      ]
    },
    {
      "cell_type": "code",
      "metadata": {
        "id": "IKCrv6ttivX5",
        "outputId": "f432e5b6-77ee-429f-fbd2-63a677815e7b",
        "colab": {
          "base_uri": "https://localhost:8080/",
          "height": 51
        }
      },
      "source": [
        "a5 = np.linspace(0,1,10)\n",
        "#Distancias de forma regular. (b-a)(n-1)\n",
        "display(a5)"
      ],
      "execution_count": 8,
      "outputs": [
        {
          "output_type": "display_data",
          "data": {
            "text/plain": [
              "array([0.        , 0.11111111, 0.22222222, 0.33333333, 0.44444444,\n",
              "       0.55555556, 0.66666667, 0.77777778, 0.88888889, 1.        ])"
            ]
          },
          "metadata": {
            "tags": []
          }
        }
      ]
    },
    {
      "cell_type": "markdown",
      "metadata": {
        "id": "ew5txDOFivYi"
      },
      "source": [
        "## Dimensión de un array"
      ]
    },
    {
      "cell_type": "code",
      "metadata": {
        "id": "O0Qxy3jvivYl",
        "outputId": "20d93018-6cf0-47c1-adf1-ec16c8f16661",
        "colab": {
          "base_uri": "https://localhost:8080/",
          "height": 34
        }
      },
      "source": [
        "display(a1)"
      ],
      "execution_count": 10,
      "outputs": [
        {
          "output_type": "display_data",
          "data": {
            "text/plain": [
              "array([1, 2, 3])"
            ]
          },
          "metadata": {
            "tags": []
          }
        }
      ]
    },
    {
      "cell_type": "code",
      "metadata": {
        "id": "vEVuYLoxnu1j",
        "outputId": "8af31c0e-a214-4921-c2ca-ef071ef1e109",
        "colab": {
          "base_uri": "https://localhost:8080/",
          "height": 34
        }
      },
      "source": [
        "a1.shape #Dimensión\n",
        "display(a1)"
      ],
      "execution_count": 27,
      "outputs": [
        {
          "output_type": "display_data",
          "data": {
            "text/plain": [
              "array([1, 2, 3])"
            ]
          },
          "metadata": {
            "tags": []
          }
        }
      ]
    },
    {
      "cell_type": "code",
      "metadata": {
        "id": "WWrh9EtltVxL"
      },
      "source": [
        ""
      ],
      "execution_count": null,
      "outputs": []
    }
  ]
}